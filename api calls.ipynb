{
 "cells": [
  {
   "cell_type": "code",
   "execution_count": 4,
   "metadata": {},
   "outputs": [],
   "source": [
    "import requests\n",
    "import json\n",
    "import re\n",
    "\n",
    "import os\n",
    "import mysql.connector\n",
    "import pandas as pd"
   ]
  },
  {
   "cell_type": "code",
   "execution_count": 5,
   "metadata": {},
   "outputs": [],
   "source": [
    "user_name = os.environ.get('DB_USER')\n",
    "password = os.environ.get('DB_PASS')"
   ]
  },
  {
   "cell_type": "code",
   "execution_count": 6,
   "metadata": {},
   "outputs": [],
   "source": [
    "connection = mysql.connector.connect(host = 'localhost', \n",
    "                                   user = user_name,\n",
    "                                   passwd = password,\n",
    "                                   db = 'registration')"
   ]
  },
  {
   "cell_type": "code",
   "execution_count": 12,
   "metadata": {},
   "outputs": [
    {
     "name": "stdout",
     "output_type": "stream",
     "text": [
      "['NISSAN', 'XIITERRA', 'JUSTICE OF THERE', 'LAGOS', 'KRD.285FU'] \n",
      "\n",
      "<Response [200]>\n",
      "KRD285FU\n"
     ]
    },
    {
     "data": {
      "text/html": [
       "<div>\n",
       "<style scoped>\n",
       "    .dataframe tbody tr th:only-of-type {\n",
       "        vertical-align: middle;\n",
       "    }\n",
       "\n",
       "    .dataframe tbody tr th {\n",
       "        vertical-align: top;\n",
       "    }\n",
       "\n",
       "    .dataframe thead th {\n",
       "        text-align: right;\n",
       "    }\n",
       "</style>\n",
       "<table border=\"1\" class=\"dataframe\">\n",
       "  <thead>\n",
       "    <tr style=\"text-align: right;\">\n",
       "      <th></th>\n",
       "      <th>Plate_number</th>\n",
       "      <th>First_name</th>\n",
       "      <th>Last_Name</th>\n",
       "      <th>Address</th>\n",
       "      <th>Telephone</th>\n",
       "      <th>Next_of_kin</th>\n",
       "      <th>kin_phone</th>\n",
       "    </tr>\n",
       "  </thead>\n",
       "  <tbody>\n",
       "    <tr>\n",
       "      <td>0</td>\n",
       "      <td>KRD285FU</td>\n",
       "      <td>Joshua</td>\n",
       "      <td>Stephens</td>\n",
       "      <td>2, Oniru Rd, Lekki</td>\n",
       "      <td>801419121</td>\n",
       "      <td>Shittu Eleshin</td>\n",
       "      <td>802457815</td>\n",
       "    </tr>\n",
       "  </tbody>\n",
       "</table>\n",
       "</div>"
      ],
      "text/plain": [
       "  Plate_number First_name Last_Name             Address  Telephone  \\\n",
       "0     KRD285FU     Joshua  Stephens  2, Oniru Rd, Lekki  801419121   \n",
       "\n",
       "      Next_of_kin  kin_phone  \n",
       "0  Shittu Eleshin  802457815  "
      ]
     },
     "execution_count": 12,
     "metadata": {},
     "output_type": "execute_result"
    }
   ],
   "source": [
    "\n",
    "img_path = 'data_imgs/1.jpeg'\n",
    "\n",
    "url = 'https://handwriting-extraction.herokuapp.com/predict handwriting local images'\n",
    "\n",
    "image_file_descriptor = open(img_path, 'rb')\n",
    "# Requests makes it simple to upload Multipart-encoded files\n",
    "header={'content_type':'multipart/form-data', 'accept': 'application/json'}\n",
    "files = {'Image': image_file_descriptor}\n",
    "\n",
    "s= requests.post(url, files=files)\n",
    "try:\n",
    "    data = s.json()    \n",
    "    print(data, '\\n')                \n",
    "except requests.exceptions.RequestException:\n",
    "    print(s.status_code, '\\n')\n",
    "    \n",
    "print(s)\n",
    "image_file_descriptor.close()\n",
    "\n",
    "h = ' '.join(data)\n",
    "\n",
    "# This works for the standard nigeria plates \n",
    "l = re.search(r'[a-zA-Z]+[-. ]*[0-9]+[- ]*[a-zA-Z]+', h)\n",
    "\n",
    "# This works for both standard and customized plates only if value read is the license plate value\n",
    "# l = re.search(r'[-a-zA-Z0-9: ]*', h)\n",
    "dt = l.group()\n",
    "\n",
    "unwanted = ['-', '.', ' ']\n",
    "for i in unwanted:\n",
    "    dt = dt.replace(i, '')\n",
    "print(dt)\n",
    "\n",
    "\n",
    "def user_data(data):\n",
    "    '''\n",
    "    This function takes in input variable or value and\n",
    "    returns the corresponding data from the db\n",
    "    \n",
    "    cur.description was also needed to get the columns for the dataframe\n",
    "    '''\n",
    "  \n",
    "    cur = connection.cursor()\n",
    "    try:\n",
    "        cur.execute(\"SELECT * FROM registration WHERE Plate_number = %s\", (data,))\n",
    "        res = cur.fetchall()\n",
    "        if res:\n",
    "            data = pd.DataFrame(data = res, columns=[x[0] for x in cur.description])\n",
    "            return data\n",
    "        else:\n",
    "            return ('No Record Found')\n",
    "    except Exception:\n",
    "        print('Exception Found')\n",
    "    \n",
    "\n",
    "user_data(dt)"
   ]
  },
  {
   "cell_type": "code",
   "execution_count": null,
   "metadata": {},
   "outputs": [],
   "source": []
  },
  {
   "cell_type": "code",
   "execution_count": null,
   "metadata": {},
   "outputs": [],
   "source": []
  },
  {
   "cell_type": "code",
   "execution_count": null,
   "metadata": {},
   "outputs": [],
   "source": []
  },
  {
   "cell_type": "code",
   "execution_count": null,
   "metadata": {},
   "outputs": [],
   "source": []
  },
  {
   "cell_type": "code",
   "execution_count": null,
   "metadata": {},
   "outputs": [],
   "source": []
  },
  {
   "cell_type": "code",
   "execution_count": null,
   "metadata": {},
   "outputs": [],
   "source": []
  },
  {
   "cell_type": "code",
   "execution_count": 2,
   "metadata": {},
   "outputs": [
    {
     "name": "stdout",
     "output_type": "stream",
     "text": [
      "CX96- ABC\n",
      "THE CEO 1\n"
     ]
    }
   ],
   "source": [
    "import re                                                                #[a-zA_Z], places all alphabets in a group\n",
    "                                                                        #[0-9], places all integers in a group\n",
    "                                                                        #[-], places all special characters in a group\n",
    "                                                                        # + is for one or more occurences\n",
    "                                                                        # * is for zero or more occurences\n",
    "\n",
    "d = 'CX96- ABC'\n",
    "e = 'KTU-984GK'\n",
    "f = 'THE CEO 1'\n",
    "g = 'PSALM34:1'\n",
    "h = '007'\n",
    "i = 'NA BABA GOD'\n",
    "\n",
    "# This works for the standard nigeria plates \n",
    "x = re.search(r'[a-zA-Z ]+[ -:.]*[0-9]+[-:. ]*[a-zA-Z]+', d)\n",
    "print(x.group())\n",
    "\n",
    "# This works for both standard and customized plates only if value read is the license plate value\n",
    "y = re.search(r'[-a-zA-Z0-9: ]*', f)\n",
    "print(y.group())"
   ]
  },
  {
   "cell_type": "code",
   "execution_count": 3,
   "metadata": {},
   "outputs": [
    {
     "name": "stdout",
     "output_type": "stream",
     "text": [
      "CX96- ABC\n",
      "CX96 ABC\n"
     ]
    }
   ],
   "source": [
    "dt = x.group()\n",
    "print(dt)\n",
    "\n",
    "dt_ = dt.replace('-', '')\n",
    "print(dt_)"
   ]
  },
  {
   "cell_type": "code",
   "execution_count": null,
   "metadata": {},
   "outputs": [],
   "source": []
  }
 ],
 "metadata": {
  "kernelspec": {
   "display_name": "Python 3",
   "language": "python",
   "name": "python3"
  },
  "language_info": {
   "codemirror_mode": {
    "name": "ipython",
    "version": 3
   },
   "file_extension": ".py",
   "mimetype": "text/x-python",
   "name": "python",
   "nbconvert_exporter": "python",
   "pygments_lexer": "ipython3",
   "version": "3.7.4"
  }
 },
 "nbformat": 4,
 "nbformat_minor": 2
}
